{
  "nbformat": 4,
  "nbformat_minor": 0,
  "metadata": {
    "colab": {
      "name": "mar ubi.ipynb",
      "provenance": [],
      "collapsed_sections": [],
      "history_visible": true,
      "machine_shape": "hm",
      "authorship_tag": "ABX9TyOpERc0NXfDeitHLMvbAMrN",
      "include_colab_link": true
    },
    "kernelspec": {
      "name": "python3",
      "display_name": "Python 3"
    },
    "language_info": {
      "name": "python"
    },
    "accelerator": "TPU"
  },
  "cells": [
    {
      "cell_type": "markdown",
      "metadata": {
        "id": "view-in-github",
        "colab_type": "text"
      },
      "source": [
        "<a href=\"https://colab.research.google.com/github/eshmaapps/kaggleUbiComp/blob/main/mar_ubi.ipynb\" target=\"_parent\"><img src=\"https://colab.research.google.com/assets/colab-badge.svg\" alt=\"Open In Colab\"/></a>"
      ]
    },
    {
      "cell_type": "code",
      "source": [
        "%tensorflow_version 2.x\n",
        "import tensorflow as tf\n",
        "print(\"Tensorflow version \" + tf.__version__)\n",
        "\n",
        "try:\n",
        "  tpu = tf.distribute.cluster_resolver.TPUClusterResolver()  # TPU detection\n",
        "  print('Running on TPU ', tpu.cluster_spec().as_dict()['worker'])\n",
        "except ValueError:\n",
        "  raise BaseException('ERROR: Not connected to a TPU runtime; please see the previous cell in this notebook for instructions!')\n",
        "\n",
        "tf.config.experimental_connect_to_cluster(tpu)\n",
        "tf.tpu.experimental.initialize_tpu_system(tpu)\n",
        "tpu_strategy = tf.distribute.experimental.TPUStrategy(tpu)"
      ],
      "metadata": {
        "id": "vZTxqlUzpyuy"
      },
      "execution_count": null,
      "outputs": []
    },
    {
      "cell_type": "code",
      "source": [
        "!kaggle kernels output robikscube/fast-data-loading-and-low-mem-with-parquet-files/data?select=train_low_mem.parquet -p ."
      ],
      "metadata": {
        "colab": {
          "base_uri": "https://localhost:8080/"
        },
        "id": "O2Wm4LdDrTRC",
        "outputId": "ced7979d-22c0-4b70-bcd3-73ead450c34b"
      },
      "execution_count": 14,
      "outputs": [
        {
          "output_type": "stream",
          "name": "stdout",
          "text": [
            "Kernel log downloaded to ./fast-data-loading-and-low-mem-with-parquet-files.log \n"
          ]
        }
      ]
    },
    {
      "cell_type": "code",
      "source": [
        "\n",
        "!echo '{\"username\":\"hackerinheels\",\"key\":\"82bbcfeae33614a0dabfa494a6ec3573\"}' > ~/.kaggle/kaggle.json\n",
        "!chmod 600 ~/.kaggle/kaggle.json"
      ],
      "metadata": {
        "id": "6LS4a00Ar8oZ"
      },
      "execution_count": 10,
      "outputs": []
    },
    {
      "cell_type": "code",
      "source": [
        "!kaggle datasets download -d robikscube/ubiquant-parquet -f train_low_mem.parquet"
      ],
      "metadata": {
        "colab": {
          "base_uri": "https://localhost:8080/"
        },
        "id": "Ff_6OAMft9zX",
        "outputId": "9ac7af38-eb06-45db-a631-69bf8d0e99c7"
      },
      "execution_count": 16,
      "outputs": [
        {
          "output_type": "stream",
          "name": "stdout",
          "text": [
            "Downloading train_low_mem.parquet.zip to /content\n",
            "100% 3.06G/3.07G [00:34<00:00, 70.0MB/s]\n",
            "100% 3.07G/3.07G [00:34<00:00, 95.5MB/s]\n"
          ]
        }
      ]
    },
    {
      "cell_type": "code",
      "execution_count": 4,
      "metadata": {
        "id": "61hamzx9mDgg"
      },
      "outputs": [],
      "source": [
        "import pyarrow\n",
        "import pyarrow.parquet\n",
        "\n",
        "##Load data\n",
        "import pandas as pd\n",
        "import numpy as np\n"
      ]
    },
    {
      "cell_type": "code",
      "source": [
        "\n",
        "# Load the data\n",
        "#df = pd.read_parquet('train.parquet')\n",
        "df = pd.read_parquet('drive/MyDrive/train_low_mem.parquet')\n",
        "# Lets look at the data\n",
        "df.head()"
      ],
      "metadata": {
        "colab": {
          "base_uri": "https://localhost:8080/",
          "height": 299
        },
        "id": "VTBWj-8oxTPw",
        "outputId": "4c3beae0-f75e-4b61-85c3-f24230ed17fa"
      },
      "execution_count": 5,
      "outputs": [
        {
          "output_type": "execute_result",
          "data": {
            "text/plain": [
              "  row_id  time_id  investment_id    target       f_0       f_1       f_2  \\\n",
              "0    0_1        0              1 -0.300875  0.932573  0.113691 -0.402206   \n",
              "1    0_2        0              2 -0.231040  0.810802 -0.514115  0.742368   \n",
              "2    0_6        0              6  0.568807  0.393974  0.615937  0.567806   \n",
              "3    0_7        0              7 -1.064780 -2.343535 -0.011870  1.874606   \n",
              "4    0_8        0              8 -0.531940  0.842057 -0.262993  2.330030   \n",
              "\n",
              "        f_3       f_4       f_5  ...     f_290     f_291     f_292     f_293  \\\n",
              "0  0.378386 -0.203938 -0.413469  ...  0.366028 -1.095620  0.200075  0.819155   \n",
              "1 -0.616673 -0.194255  1.771210  ... -0.154193  0.912726 -0.734579  0.819155   \n",
              "2 -0.607963  0.068883 -1.083155  ... -0.138020  0.912726 -0.551904 -1.220772   \n",
              "3 -0.606346 -0.586827 -0.815737  ...  0.382201  0.912726 -0.266359 -1.220772   \n",
              "4 -0.583422 -0.618392 -0.742814  ... -0.170365  0.912726 -0.741355 -1.220772   \n",
              "\n",
              "      f_294     f_295     f_296     f_297     f_298     f_299  \n",
              "0  0.941183 -0.086764 -1.087009 -1.044826 -0.287605  0.321566  \n",
              "1  0.941183 -0.387617 -1.087009 -0.929529 -0.974060 -0.343624  \n",
              "2 -1.060166 -0.219097 -1.087009 -0.612428 -0.113944  0.243608  \n",
              "3  0.941183 -0.609113  0.104928 -0.783423  1.151730 -0.773309  \n",
              "4  0.941183 -0.588445  0.104928  0.753279  1.345611 -0.737624  \n",
              "\n",
              "[5 rows x 304 columns]"
            ],
            "text/html": [
              "\n",
              "  <div id=\"df-34264d72-54ec-4a43-9810-15d5dc7bba76\">\n",
              "    <div class=\"colab-df-container\">\n",
              "      <div>\n",
              "<style scoped>\n",
              "    .dataframe tbody tr th:only-of-type {\n",
              "        vertical-align: middle;\n",
              "    }\n",
              "\n",
              "    .dataframe tbody tr th {\n",
              "        vertical-align: top;\n",
              "    }\n",
              "\n",
              "    .dataframe thead th {\n",
              "        text-align: right;\n",
              "    }\n",
              "</style>\n",
              "<table border=\"1\" class=\"dataframe\">\n",
              "  <thead>\n",
              "    <tr style=\"text-align: right;\">\n",
              "      <th></th>\n",
              "      <th>row_id</th>\n",
              "      <th>time_id</th>\n",
              "      <th>investment_id</th>\n",
              "      <th>target</th>\n",
              "      <th>f_0</th>\n",
              "      <th>f_1</th>\n",
              "      <th>f_2</th>\n",
              "      <th>f_3</th>\n",
              "      <th>f_4</th>\n",
              "      <th>f_5</th>\n",
              "      <th>...</th>\n",
              "      <th>f_290</th>\n",
              "      <th>f_291</th>\n",
              "      <th>f_292</th>\n",
              "      <th>f_293</th>\n",
              "      <th>f_294</th>\n",
              "      <th>f_295</th>\n",
              "      <th>f_296</th>\n",
              "      <th>f_297</th>\n",
              "      <th>f_298</th>\n",
              "      <th>f_299</th>\n",
              "    </tr>\n",
              "  </thead>\n",
              "  <tbody>\n",
              "    <tr>\n",
              "      <th>0</th>\n",
              "      <td>0_1</td>\n",
              "      <td>0</td>\n",
              "      <td>1</td>\n",
              "      <td>-0.300875</td>\n",
              "      <td>0.932573</td>\n",
              "      <td>0.113691</td>\n",
              "      <td>-0.402206</td>\n",
              "      <td>0.378386</td>\n",
              "      <td>-0.203938</td>\n",
              "      <td>-0.413469</td>\n",
              "      <td>...</td>\n",
              "      <td>0.366028</td>\n",
              "      <td>-1.095620</td>\n",
              "      <td>0.200075</td>\n",
              "      <td>0.819155</td>\n",
              "      <td>0.941183</td>\n",
              "      <td>-0.086764</td>\n",
              "      <td>-1.087009</td>\n",
              "      <td>-1.044826</td>\n",
              "      <td>-0.287605</td>\n",
              "      <td>0.321566</td>\n",
              "    </tr>\n",
              "    <tr>\n",
              "      <th>1</th>\n",
              "      <td>0_2</td>\n",
              "      <td>0</td>\n",
              "      <td>2</td>\n",
              "      <td>-0.231040</td>\n",
              "      <td>0.810802</td>\n",
              "      <td>-0.514115</td>\n",
              "      <td>0.742368</td>\n",
              "      <td>-0.616673</td>\n",
              "      <td>-0.194255</td>\n",
              "      <td>1.771210</td>\n",
              "      <td>...</td>\n",
              "      <td>-0.154193</td>\n",
              "      <td>0.912726</td>\n",
              "      <td>-0.734579</td>\n",
              "      <td>0.819155</td>\n",
              "      <td>0.941183</td>\n",
              "      <td>-0.387617</td>\n",
              "      <td>-1.087009</td>\n",
              "      <td>-0.929529</td>\n",
              "      <td>-0.974060</td>\n",
              "      <td>-0.343624</td>\n",
              "    </tr>\n",
              "    <tr>\n",
              "      <th>2</th>\n",
              "      <td>0_6</td>\n",
              "      <td>0</td>\n",
              "      <td>6</td>\n",
              "      <td>0.568807</td>\n",
              "      <td>0.393974</td>\n",
              "      <td>0.615937</td>\n",
              "      <td>0.567806</td>\n",
              "      <td>-0.607963</td>\n",
              "      <td>0.068883</td>\n",
              "      <td>-1.083155</td>\n",
              "      <td>...</td>\n",
              "      <td>-0.138020</td>\n",
              "      <td>0.912726</td>\n",
              "      <td>-0.551904</td>\n",
              "      <td>-1.220772</td>\n",
              "      <td>-1.060166</td>\n",
              "      <td>-0.219097</td>\n",
              "      <td>-1.087009</td>\n",
              "      <td>-0.612428</td>\n",
              "      <td>-0.113944</td>\n",
              "      <td>0.243608</td>\n",
              "    </tr>\n",
              "    <tr>\n",
              "      <th>3</th>\n",
              "      <td>0_7</td>\n",
              "      <td>0</td>\n",
              "      <td>7</td>\n",
              "      <td>-1.064780</td>\n",
              "      <td>-2.343535</td>\n",
              "      <td>-0.011870</td>\n",
              "      <td>1.874606</td>\n",
              "      <td>-0.606346</td>\n",
              "      <td>-0.586827</td>\n",
              "      <td>-0.815737</td>\n",
              "      <td>...</td>\n",
              "      <td>0.382201</td>\n",
              "      <td>0.912726</td>\n",
              "      <td>-0.266359</td>\n",
              "      <td>-1.220772</td>\n",
              "      <td>0.941183</td>\n",
              "      <td>-0.609113</td>\n",
              "      <td>0.104928</td>\n",
              "      <td>-0.783423</td>\n",
              "      <td>1.151730</td>\n",
              "      <td>-0.773309</td>\n",
              "    </tr>\n",
              "    <tr>\n",
              "      <th>4</th>\n",
              "      <td>0_8</td>\n",
              "      <td>0</td>\n",
              "      <td>8</td>\n",
              "      <td>-0.531940</td>\n",
              "      <td>0.842057</td>\n",
              "      <td>-0.262993</td>\n",
              "      <td>2.330030</td>\n",
              "      <td>-0.583422</td>\n",
              "      <td>-0.618392</td>\n",
              "      <td>-0.742814</td>\n",
              "      <td>...</td>\n",
              "      <td>-0.170365</td>\n",
              "      <td>0.912726</td>\n",
              "      <td>-0.741355</td>\n",
              "      <td>-1.220772</td>\n",
              "      <td>0.941183</td>\n",
              "      <td>-0.588445</td>\n",
              "      <td>0.104928</td>\n",
              "      <td>0.753279</td>\n",
              "      <td>1.345611</td>\n",
              "      <td>-0.737624</td>\n",
              "    </tr>\n",
              "  </tbody>\n",
              "</table>\n",
              "<p>5 rows × 304 columns</p>\n",
              "</div>\n",
              "      <button class=\"colab-df-convert\" onclick=\"convertToInteractive('df-34264d72-54ec-4a43-9810-15d5dc7bba76')\"\n",
              "              title=\"Convert this dataframe to an interactive table.\"\n",
              "              style=\"display:none;\">\n",
              "        \n",
              "  <svg xmlns=\"http://www.w3.org/2000/svg\" height=\"24px\"viewBox=\"0 0 24 24\"\n",
              "       width=\"24px\">\n",
              "    <path d=\"M0 0h24v24H0V0z\" fill=\"none\"/>\n",
              "    <path d=\"M18.56 5.44l.94 2.06.94-2.06 2.06-.94-2.06-.94-.94-2.06-.94 2.06-2.06.94zm-11 1L8.5 8.5l.94-2.06 2.06-.94-2.06-.94L8.5 2.5l-.94 2.06-2.06.94zm10 10l.94 2.06.94-2.06 2.06-.94-2.06-.94-.94-2.06-.94 2.06-2.06.94z\"/><path d=\"M17.41 7.96l-1.37-1.37c-.4-.4-.92-.59-1.43-.59-.52 0-1.04.2-1.43.59L10.3 9.45l-7.72 7.72c-.78.78-.78 2.05 0 2.83L4 21.41c.39.39.9.59 1.41.59.51 0 1.02-.2 1.41-.59l7.78-7.78 2.81-2.81c.8-.78.8-2.07 0-2.86zM5.41 20L4 18.59l7.72-7.72 1.47 1.35L5.41 20z\"/>\n",
              "  </svg>\n",
              "      </button>\n",
              "      \n",
              "  <style>\n",
              "    .colab-df-container {\n",
              "      display:flex;\n",
              "      flex-wrap:wrap;\n",
              "      gap: 12px;\n",
              "    }\n",
              "\n",
              "    .colab-df-convert {\n",
              "      background-color: #E8F0FE;\n",
              "      border: none;\n",
              "      border-radius: 50%;\n",
              "      cursor: pointer;\n",
              "      display: none;\n",
              "      fill: #1967D2;\n",
              "      height: 32px;\n",
              "      padding: 0 0 0 0;\n",
              "      width: 32px;\n",
              "    }\n",
              "\n",
              "    .colab-df-convert:hover {\n",
              "      background-color: #E2EBFA;\n",
              "      box-shadow: 0px 1px 2px rgba(60, 64, 67, 0.3), 0px 1px 3px 1px rgba(60, 64, 67, 0.15);\n",
              "      fill: #174EA6;\n",
              "    }\n",
              "\n",
              "    [theme=dark] .colab-df-convert {\n",
              "      background-color: #3B4455;\n",
              "      fill: #D2E3FC;\n",
              "    }\n",
              "\n",
              "    [theme=dark] .colab-df-convert:hover {\n",
              "      background-color: #434B5C;\n",
              "      box-shadow: 0px 1px 3px 1px rgba(0, 0, 0, 0.15);\n",
              "      filter: drop-shadow(0px 1px 2px rgba(0, 0, 0, 0.3));\n",
              "      fill: #FFFFFF;\n",
              "    }\n",
              "  </style>\n",
              "\n",
              "      <script>\n",
              "        const buttonEl =\n",
              "          document.querySelector('#df-34264d72-54ec-4a43-9810-15d5dc7bba76 button.colab-df-convert');\n",
              "        buttonEl.style.display =\n",
              "          google.colab.kernel.accessAllowed ? 'block' : 'none';\n",
              "\n",
              "        async function convertToInteractive(key) {\n",
              "          const element = document.querySelector('#df-34264d72-54ec-4a43-9810-15d5dc7bba76');\n",
              "          const dataTable =\n",
              "            await google.colab.kernel.invokeFunction('convertToInteractive',\n",
              "                                                     [key], {});\n",
              "          if (!dataTable) return;\n",
              "\n",
              "          const docLinkHtml = 'Like what you see? Visit the ' +\n",
              "            '<a target=\"_blank\" href=https://colab.research.google.com/notebooks/data_table.ipynb>data table notebook</a>'\n",
              "            + ' to learn more about interactive tables.';\n",
              "          element.innerHTML = '';\n",
              "          dataTable['output_type'] = 'display_data';\n",
              "          await google.colab.output.renderOutput(dataTable, element);\n",
              "          const docLink = document.createElement('div');\n",
              "          docLink.innerHTML = docLinkHtml;\n",
              "          element.appendChild(docLink);\n",
              "        }\n",
              "      </script>\n",
              "    </div>\n",
              "  </div>\n",
              "  "
            ]
          },
          "metadata": {},
          "execution_count": 5
        }
      ]
    },
    {
      "cell_type": "code",
      "source": [
        "import matplotlib.pyplot as plt\n",
        "import seaborn as sns\n",
        "\n",
        "plt.figure(figsize=(16,5))\n",
        "plt.subplot(1,2,1)\n",
        "sns.distplot(df['f_0'])\n",
        "plt.subplot(1,2,2)\n",
        "sns.distplot(df['f_0'])\n",
        "plt.show()\n",
        "\n",
        "sns.boxplot(df['placement_exam_marks'])\n"
      ],
      "metadata": {
        "id": "87c_18xdZx0A"
      },
      "execution_count": null,
      "outputs": []
    },
    {
      "cell_type": "code",
      "source": [
        "y = df.target\n",
        "x = df\n",
        "x = x.drop(['target', 'row_id'], axis=1)"
      ],
      "metadata": {
        "id": "7Y96mrr_mSCx"
      },
      "execution_count": 6,
      "outputs": []
    },
    {
      "cell_type": "code",
      "source": [
        "import pickle\n",
        "filename = 'mar_model.sav'\n",
        "\n"
      ],
      "metadata": {
        "id": "7N19weM8ncoV"
      },
      "execution_count": 7,
      "outputs": []
    },
    {
      "cell_type": "code",
      "source": [
        "!pip install pytorch-tabnet\n",
        "from pytorch_tabnet.tab_model import TabNetRegressor\n",
        "from sklearn.model_selection import TimeSeriesSplit\n",
        "from sklearn.metrics import mean_absolute_error\n",
        "\n",
        "regressor = TabNetRegressor(verbose=0,seed=42)\n"
      ],
      "metadata": {
        "colab": {
          "base_uri": "https://localhost:8080/"
        },
        "id": "svPoIyPgmV1B",
        "outputId": "8b730abd-5954-4e9a-df1c-3c29a29cca20"
      },
      "execution_count": 8,
      "outputs": [
        {
          "output_type": "stream",
          "name": "stdout",
          "text": [
            "Collecting pytorch-tabnet\n",
            "  Downloading pytorch_tabnet-3.1.1-py3-none-any.whl (39 kB)\n",
            "Requirement already satisfied: scipy>1.4 in /usr/local/lib/python3.7/dist-packages (from pytorch-tabnet) (1.4.1)\n",
            "Requirement already satisfied: tqdm<5.0,>=4.36 in /usr/local/lib/python3.7/dist-packages (from pytorch-tabnet) (4.63.0)\n",
            "Requirement already satisfied: scikit_learn>0.21 in /usr/local/lib/python3.7/dist-packages (from pytorch-tabnet) (1.0.2)\n",
            "Requirement already satisfied: torch<2.0,>=1.2 in /usr/local/lib/python3.7/dist-packages (from pytorch-tabnet) (1.10.0+cu111)\n",
            "Requirement already satisfied: numpy<2.0,>=1.17 in /usr/local/lib/python3.7/dist-packages (from pytorch-tabnet) (1.21.5)\n",
            "Requirement already satisfied: threadpoolctl>=2.0.0 in /usr/local/lib/python3.7/dist-packages (from scikit_learn>0.21->pytorch-tabnet) (3.1.0)\n",
            "Requirement already satisfied: joblib>=0.11 in /usr/local/lib/python3.7/dist-packages (from scikit_learn>0.21->pytorch-tabnet) (1.1.0)\n",
            "Requirement already satisfied: typing-extensions in /usr/local/lib/python3.7/dist-packages (from torch<2.0,>=1.2->pytorch-tabnet) (3.10.0.2)\n",
            "Installing collected packages: pytorch-tabnet\n",
            "Successfully installed pytorch-tabnet-3.1.1\n"
          ]
        }
      ]
    },
    {
      "cell_type": "code",
      "source": [
        "import gc\n",
        "gc.collect()"
      ],
      "metadata": {
        "colab": {
          "base_uri": "https://localhost:8080/"
        },
        "id": "Ny51Dybx-ofL",
        "outputId": "f7312194-dead-42ab-ca0c-a861a84aaaae"
      },
      "execution_count": 15,
      "outputs": [
        {
          "output_type": "execute_result",
          "data": {
            "text/plain": [
              "88"
            ]
          },
          "metadata": {},
          "execution_count": 15
        }
      ]
    },
    {
      "cell_type": "code",
      "source": [
        "tscv = TimeSeriesSplit(n_splits = 20)\n",
        "rmse = []\n",
        "CV_score_array    =[]\n",
        "predictions_array =[]\n",
        "\n",
        "for train_index, test_index in tscv.split(x):\n",
        "    X_train, X_valid = x.iloc[train_index], x.iloc[test_index]\n",
        "    y_train, y_valid = y[train_index], y[test_index]\n",
        "\n",
        "    X_train      = X_train.to_numpy()\n",
        "    y_train = y_train.to_numpy().reshape(-1, 1)\n",
        "    \n",
        "    X_valid      = X_valid.to_numpy()\n",
        "    y_valid = y_valid.to_numpy().reshape(-1, 1)\n",
        "    \n",
        "    regressor.fit(X_train=X_train, y_train=y_train,\n",
        "              eval_set=[(X_valid, y_valid)],\n",
        "              patience=300, max_epochs=100,\n",
        "              eval_metric=['rmse'])\n",
        "    predictions = regressor.predict(X_valid)\n",
        "    # calculate Pearson's correlation\n",
        "    #corr, _ = pearsonr(y_valid, predictions)\n",
        "    #print('Pearsons correlation: %.3f' % corr)\n",
        "    pickle.dump(regressor, open(filename, 'wb'))\n",
        "\n",
        "    CV_score_array.append(regressor.best_cost)\n",
        "    print(\"The CV score is %.5f\" % np.mean(CV_score_array,axis=0) )\n",
        "    predictions_array.append(np.expm1(predictions))"
      ],
      "metadata": {
        "colab": {
          "base_uri": "https://localhost:8080/"
        },
        "id": "Uy2gGevMmYGM",
        "outputId": "e238767c-53fd-45f5-9943-8d4f40f9ce21"
      },
      "execution_count": null,
      "outputs": [
        {
          "output_type": "stream",
          "name": "stdout",
          "text": [
            "Stop training because you reached max_epochs = 100 with best_epoch = 13 and best_val_0_rmse = 0.9372299909591675\n",
            "Best weights from best epoch are automatically used!\n",
            "The CV score is 0.93723\n",
            "Stop training because you reached max_epochs = 100 with best_epoch = 1 and best_val_0_rmse = 0.9178900122642517\n",
            "Best weights from best epoch are automatically used!\n",
            "The CV score is 0.92756\n",
            "Stop training because you reached max_epochs = 100 with best_epoch = 7 and best_val_0_rmse = 0.9214500188827515\n",
            "Best weights from best epoch are automatically used!\n",
            "The CV score is 0.92552\n",
            "Stop training because you reached max_epochs = 100 with best_epoch = 2 and best_val_0_rmse = 0.8964999914169312\n",
            "Best weights from best epoch are automatically used!\n",
            "The CV score is 0.91827\n",
            "Stop training because you reached max_epochs = 100 with best_epoch = 4 and best_val_0_rmse = 0.8823800086975098\n",
            "Best weights from best epoch are automatically used!\n",
            "The CV score is 0.91109\n"
          ]
        }
      ]
    },
    {
      "cell_type": "code",
      "source": [
        "!cp filename \"/content/drive/My Drive/\"\n"
      ],
      "metadata": {
        "id": "2L9XAFRT_5Du"
      },
      "execution_count": null,
      "outputs": []
    },
    {
      "cell_type": "code",
      "source": [
        "# load the model from disk\n",
        "regressor = pickle.load(open(filename, 'rb'))\n",
        "#result = loaded_model.score(X_test, Y_test)\n",
        "#print(result)\n"
      ],
      "metadata": {
        "id": "3wTRImyLmd1R"
      },
      "execution_count": null,
      "outputs": []
    },
    {
      "cell_type": "code",
      "source": [
        "from google.colab import drive\n",
        "drive.mount('/content/drive')"
      ],
      "metadata": {
        "colab": {
          "base_uri": "https://localhost:8080/"
        },
        "id": "I_lQK_qtmk2-",
        "outputId": "af8e1142-316a-4adc-c8fd-71bc365423bf"
      },
      "execution_count": 2,
      "outputs": [
        {
          "output_type": "stream",
          "name": "stdout",
          "text": [
            "Mounted at /content/drive\n"
          ]
        }
      ]
    }
  ]
}