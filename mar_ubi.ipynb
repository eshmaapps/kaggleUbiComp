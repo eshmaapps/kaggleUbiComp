{
  "nbformat": 4,
  "nbformat_minor": 0,
  "metadata": {
    "colab": {
      "name": "mar ubi.ipynb",
      "provenance": [],
      "collapsed_sections": [],
      "machine_shape": "hm",
      "mount_file_id": "1Ir9QBUmht6PvQClSbBIH2rmkqRpwJeTQ",
      "authorship_tag": "ABX9TyNIHSTQH0j7cwipfOspr4b2",
      "include_colab_link": true
    },
    "kernelspec": {
      "name": "python3",
      "display_name": "Python 3"
    },
    "language_info": {
      "name": "python"
    },
    "accelerator": "TPU"
  },
  "cells": [
    {
      "cell_type": "markdown",
      "metadata": {
        "id": "view-in-github",
        "colab_type": "text"
      },
      "source": [
        "<a href=\"https://colab.research.google.com/github/eshmaapps/kaggleUbiComp/blob/main/mar_ubi.ipynb\" target=\"_parent\"><img src=\"https://colab.research.google.com/assets/colab-badge.svg\" alt=\"Open In Colab\"/></a>"
      ]
    },
    {
      "cell_type": "code",
      "source": [
        "%tensorflow_version 2.x\n",
        "import tensorflow as tf\n",
        "print(\"Tensorflow version \" + tf.__version__)\n",
        "\n",
        "try:\n",
        "  tpu = tf.distribute.cluster_resolver.TPUClusterResolver()  # TPU detection\n",
        "  print('Running on TPU ', tpu.cluster_spec().as_dict()['worker'])\n",
        "except ValueError:\n",
        "  raise BaseException('ERROR: Not connected to a TPU runtime; please see the previous cell in this notebook for instructions!')\n",
        "\n",
        "tf.config.experimental_connect_to_cluster(tpu)\n",
        "tf.tpu.experimental.initialize_tpu_system(tpu)\n",
        "tpu_strategy = tf.distribute.experimental.TPUStrategy(tpu)"
      ],
      "metadata": {
        "colab": {
          "base_uri": "https://localhost:8080/"
        },
        "id": "vZTxqlUzpyuy",
        "outputId": "6c05a452-38ac-4740-a262-2dc492085d68"
      },
      "execution_count": 11,
      "outputs": [
        {
          "output_type": "stream",
          "name": "stdout",
          "text": [
            "Tensorflow version 2.8.0\n",
            "Running on TPU  ['10.73.199.10:8470']\n",
            "INFO:tensorflow:Deallocate tpu buffers before initializing tpu system.\n"
          ]
        },
        {
          "output_type": "stream",
          "name": "stderr",
          "text": [
            "INFO:tensorflow:Deallocate tpu buffers before initializing tpu system.\n"
          ]
        },
        {
          "output_type": "stream",
          "name": "stdout",
          "text": [
            "INFO:tensorflow:Initializing the TPU system: grpc://10.73.199.10:8470\n"
          ]
        },
        {
          "output_type": "stream",
          "name": "stderr",
          "text": [
            "INFO:tensorflow:Initializing the TPU system: grpc://10.73.199.10:8470\n"
          ]
        },
        {
          "output_type": "stream",
          "name": "stdout",
          "text": [
            "INFO:tensorflow:Finished initializing TPU system.\n"
          ]
        },
        {
          "output_type": "stream",
          "name": "stderr",
          "text": [
            "INFO:tensorflow:Finished initializing TPU system.\n",
            "WARNING:absl:`tf.distribute.experimental.TPUStrategy` is deprecated, please use  the non experimental symbol `tf.distribute.TPUStrategy` instead.\n"
          ]
        },
        {
          "output_type": "stream",
          "name": "stdout",
          "text": [
            "INFO:tensorflow:Found TPU system:\n"
          ]
        },
        {
          "output_type": "stream",
          "name": "stderr",
          "text": [
            "INFO:tensorflow:Found TPU system:\n"
          ]
        },
        {
          "output_type": "stream",
          "name": "stdout",
          "text": [
            "INFO:tensorflow:*** Num TPU Cores: 8\n"
          ]
        },
        {
          "output_type": "stream",
          "name": "stderr",
          "text": [
            "INFO:tensorflow:*** Num TPU Cores: 8\n"
          ]
        },
        {
          "output_type": "stream",
          "name": "stdout",
          "text": [
            "INFO:tensorflow:*** Num TPU Workers: 1\n"
          ]
        },
        {
          "output_type": "stream",
          "name": "stderr",
          "text": [
            "INFO:tensorflow:*** Num TPU Workers: 1\n"
          ]
        },
        {
          "output_type": "stream",
          "name": "stdout",
          "text": [
            "INFO:tensorflow:*** Num TPU Cores Per Worker: 8\n"
          ]
        },
        {
          "output_type": "stream",
          "name": "stderr",
          "text": [
            "INFO:tensorflow:*** Num TPU Cores Per Worker: 8\n"
          ]
        },
        {
          "output_type": "stream",
          "name": "stdout",
          "text": [
            "INFO:tensorflow:*** Available Device: _DeviceAttributes(/job:localhost/replica:0/task:0/device:CPU:0, CPU, 0, 0)\n"
          ]
        },
        {
          "output_type": "stream",
          "name": "stderr",
          "text": [
            "INFO:tensorflow:*** Available Device: _DeviceAttributes(/job:localhost/replica:0/task:0/device:CPU:0, CPU, 0, 0)\n"
          ]
        },
        {
          "output_type": "stream",
          "name": "stdout",
          "text": [
            "INFO:tensorflow:*** Available Device: _DeviceAttributes(/job:worker/replica:0/task:0/device:CPU:0, CPU, 0, 0)\n"
          ]
        },
        {
          "output_type": "stream",
          "name": "stderr",
          "text": [
            "INFO:tensorflow:*** Available Device: _DeviceAttributes(/job:worker/replica:0/task:0/device:CPU:0, CPU, 0, 0)\n"
          ]
        },
        {
          "output_type": "stream",
          "name": "stdout",
          "text": [
            "INFO:tensorflow:*** Available Device: _DeviceAttributes(/job:worker/replica:0/task:0/device:TPU:0, TPU, 0, 0)\n"
          ]
        },
        {
          "output_type": "stream",
          "name": "stderr",
          "text": [
            "INFO:tensorflow:*** Available Device: _DeviceAttributes(/job:worker/replica:0/task:0/device:TPU:0, TPU, 0, 0)\n"
          ]
        },
        {
          "output_type": "stream",
          "name": "stdout",
          "text": [
            "INFO:tensorflow:*** Available Device: _DeviceAttributes(/job:worker/replica:0/task:0/device:TPU:1, TPU, 0, 0)\n"
          ]
        },
        {
          "output_type": "stream",
          "name": "stderr",
          "text": [
            "INFO:tensorflow:*** Available Device: _DeviceAttributes(/job:worker/replica:0/task:0/device:TPU:1, TPU, 0, 0)\n"
          ]
        },
        {
          "output_type": "stream",
          "name": "stdout",
          "text": [
            "INFO:tensorflow:*** Available Device: _DeviceAttributes(/job:worker/replica:0/task:0/device:TPU:2, TPU, 0, 0)\n"
          ]
        },
        {
          "output_type": "stream",
          "name": "stderr",
          "text": [
            "INFO:tensorflow:*** Available Device: _DeviceAttributes(/job:worker/replica:0/task:0/device:TPU:2, TPU, 0, 0)\n"
          ]
        },
        {
          "output_type": "stream",
          "name": "stdout",
          "text": [
            "INFO:tensorflow:*** Available Device: _DeviceAttributes(/job:worker/replica:0/task:0/device:TPU:3, TPU, 0, 0)\n"
          ]
        },
        {
          "output_type": "stream",
          "name": "stderr",
          "text": [
            "INFO:tensorflow:*** Available Device: _DeviceAttributes(/job:worker/replica:0/task:0/device:TPU:3, TPU, 0, 0)\n"
          ]
        },
        {
          "output_type": "stream",
          "name": "stdout",
          "text": [
            "INFO:tensorflow:*** Available Device: _DeviceAttributes(/job:worker/replica:0/task:0/device:TPU:4, TPU, 0, 0)\n"
          ]
        },
        {
          "output_type": "stream",
          "name": "stderr",
          "text": [
            "INFO:tensorflow:*** Available Device: _DeviceAttributes(/job:worker/replica:0/task:0/device:TPU:4, TPU, 0, 0)\n"
          ]
        },
        {
          "output_type": "stream",
          "name": "stdout",
          "text": [
            "INFO:tensorflow:*** Available Device: _DeviceAttributes(/job:worker/replica:0/task:0/device:TPU:5, TPU, 0, 0)\n"
          ]
        },
        {
          "output_type": "stream",
          "name": "stderr",
          "text": [
            "INFO:tensorflow:*** Available Device: _DeviceAttributes(/job:worker/replica:0/task:0/device:TPU:5, TPU, 0, 0)\n"
          ]
        },
        {
          "output_type": "stream",
          "name": "stdout",
          "text": [
            "INFO:tensorflow:*** Available Device: _DeviceAttributes(/job:worker/replica:0/task:0/device:TPU:6, TPU, 0, 0)\n"
          ]
        },
        {
          "output_type": "stream",
          "name": "stderr",
          "text": [
            "INFO:tensorflow:*** Available Device: _DeviceAttributes(/job:worker/replica:0/task:0/device:TPU:6, TPU, 0, 0)\n"
          ]
        },
        {
          "output_type": "stream",
          "name": "stdout",
          "text": [
            "INFO:tensorflow:*** Available Device: _DeviceAttributes(/job:worker/replica:0/task:0/device:TPU:7, TPU, 0, 0)\n"
          ]
        },
        {
          "output_type": "stream",
          "name": "stderr",
          "text": [
            "INFO:tensorflow:*** Available Device: _DeviceAttributes(/job:worker/replica:0/task:0/device:TPU:7, TPU, 0, 0)\n"
          ]
        },
        {
          "output_type": "stream",
          "name": "stdout",
          "text": [
            "INFO:tensorflow:*** Available Device: _DeviceAttributes(/job:worker/replica:0/task:0/device:TPU_SYSTEM:0, TPU_SYSTEM, 0, 0)\n"
          ]
        },
        {
          "output_type": "stream",
          "name": "stderr",
          "text": [
            "INFO:tensorflow:*** Available Device: _DeviceAttributes(/job:worker/replica:0/task:0/device:TPU_SYSTEM:0, TPU_SYSTEM, 0, 0)\n"
          ]
        },
        {
          "output_type": "stream",
          "name": "stdout",
          "text": [
            "INFO:tensorflow:*** Available Device: _DeviceAttributes(/job:worker/replica:0/task:0/device:XLA_CPU:0, XLA_CPU, 0, 0)\n"
          ]
        },
        {
          "output_type": "stream",
          "name": "stderr",
          "text": [
            "INFO:tensorflow:*** Available Device: _DeviceAttributes(/job:worker/replica:0/task:0/device:XLA_CPU:0, XLA_CPU, 0, 0)\n"
          ]
        }
      ]
    },
    {
      "cell_type": "code",
      "source": [
        "!kaggle kernels output robikscube/fast-data-loading-and-low-mem-with-parquet-files/data?select=train_low_mem.parquet -p ."
      ],
      "metadata": {
        "colab": {
          "base_uri": "https://localhost:8080/"
        },
        "id": "O2Wm4LdDrTRC",
        "outputId": "ced7979d-22c0-4b70-bcd3-73ead450c34b"
      },
      "execution_count": 14,
      "outputs": [
        {
          "output_type": "stream",
          "name": "stdout",
          "text": [
            "Kernel log downloaded to ./fast-data-loading-and-low-mem-with-parquet-files.log \n"
          ]
        }
      ]
    },
    {
      "cell_type": "code",
      "source": [
        "#SKIP\n",
        "!echo '{\"username\":\"hackerinheels\",\"key\":\"82bbcfeae33614a0dabfa494a6ec3573\"}' > ~/.kaggle/kaggle.json\n",
        "!chmod 600 ~/.kaggle/kaggle.json\n",
        "!kaggle datasets download -d robikscube/ubiquant-parquet -f train_low_mem.parquet"
      ],
      "metadata": {
        "colab": {
          "base_uri": "https://localhost:8080/"
        },
        "id": "6LS4a00Ar8oZ",
        "outputId": "d794531d-6c53-4857-b5db-262ff0135f42"
      },
      "execution_count": 12,
      "outputs": [
        {
          "output_type": "stream",
          "name": "stdout",
          "text": [
            "/bin/bash: /root/.kaggle/kaggle.json: No such file or directory\n",
            "chmod: cannot access '/root/.kaggle/kaggle.json': No such file or directory\n",
            "Traceback (most recent call last):\n",
            "  File \"/usr/local/bin/kaggle\", line 5, in <module>\n",
            "    from kaggle.cli import main\n",
            "  File \"/usr/local/lib/python3.7/dist-packages/kaggle/__init__.py\", line 23, in <module>\n",
            "    api.authenticate()\n",
            "  File \"/usr/local/lib/python3.7/dist-packages/kaggle/api/kaggle_api_extended.py\", line 166, in authenticate\n",
            "    self.config_file, self.config_dir))\n",
            "OSError: Could not find kaggle.json. Make sure it's located in /root/.kaggle. Or use the environment method.\n"
          ]
        }
      ]
    },
    {
      "cell_type": "code",
      "source": [
        ""
      ],
      "metadata": {
        "colab": {
          "base_uri": "https://localhost:8080/"
        },
        "id": "Ff_6OAMft9zX",
        "outputId": "b9410f25-f1ca-4505-f908-84f9b11915c0"
      },
      "execution_count": 4,
      "outputs": [
        {
          "output_type": "stream",
          "name": "stdout",
          "text": [
            "Downloading train_low_mem.parquet.zip to /content\n",
            "100% 3.06G/3.07G [00:24<00:00, 142MB/s]\n",
            "100% 3.07G/3.07G [00:24<00:00, 134MB/s]\n"
          ]
        }
      ]
    },
    {
      "cell_type": "code",
      "execution_count": 13,
      "metadata": {
        "colab": {
          "base_uri": "https://localhost:8080/"
        },
        "id": "61hamzx9mDgg",
        "outputId": "f1c0b398-c845-4f9a-d7e9-01008fd02dc2"
      },
      "outputs": [
        {
          "output_type": "stream",
          "name": "stdout",
          "text": [
            "Drive already mounted at /content/drive; to attempt to forcibly remount, call drive.mount(\"/content/drive\", force_remount=True).\n"
          ]
        }
      ],
      "source": [
        "import pyarrow\n",
        "import pyarrow.parquet\n",
        "\n",
        "##Load data\n",
        "import pandas as pd\n",
        "import numpy as np\n",
        "from google.colab import drive\n",
        "drive.mount('/content/drive')"
      ]
    },
    {
      "cell_type": "code",
      "source": [
        "\n",
        "# Load the data\n",
        "#df = pd.read_parquet('train.parquet')\n",
        "df = pd.read_parquet('drive/MyDrive/train_low_mem.parquet')\n",
        "# Lets look at the data"
      ],
      "metadata": {
        "id": "VTBWj-8oxTPw"
      },
      "execution_count": 14,
      "outputs": []
    },
    {
      "cell_type": "code",
      "source": [
        "df.shape"
      ],
      "metadata": {
        "colab": {
          "base_uri": "https://localhost:8080/"
        },
        "id": "88BYEys9vf5n",
        "outputId": "fafbcd2e-df0e-4f4c-933f-811f1731925f"
      },
      "execution_count": 3,
      "outputs": [
        {
          "output_type": "execute_result",
          "data": {
            "text/plain": [
              "(3141410, 304)"
            ]
          },
          "metadata": {},
          "execution_count": 3
        }
      ]
    },
    {
      "cell_type": "code",
      "source": [
        "import matplotlib.pyplot as plt\n",
        "import seaborn as sns\n",
        "\n",
        "plt.figure(figsize=(16,5))\n",
        "plt.subplot(1,2,1)\n",
        "sns.distplot(df_filtered['f_0'])\n",
        "plt.subplot(1,2,2)\n",
        "sns.distplot(df_filtered['f_1'])\n",
        "plt.show()\n",
        "\n",
        "sns.boxplot(df_filtered['target'])\n"
      ],
      "metadata": {
        "id": "87c_18xdZx0A"
      },
      "execution_count": null,
      "outputs": []
    },
    {
      "cell_type": "code",
      "source": [
        ""
      ],
      "metadata": {
        "id": "p_vSQukinBRq"
      },
      "execution_count": 25,
      "outputs": []
    },
    {
      "cell_type": "code",
      "source": [
        "df_filtered = df \n",
        "\n",
        "# Create correlation matrix\n",
        "corr_matrix = df_filtered.corr().abs()\n",
        "\n",
        "# Select upper triangle of correlation matrix\n",
        "upper = corr_matrix.where(np.triu(np.ones(corr_matrix.shape), k=1).astype(np.bool))\n",
        "\n",
        "# Find features with correlation greater than 0.95\n",
        "to_drop = [column for column in upper.columns if any(upper[column] > 0.95)]\n",
        "\n",
        "# Drop features \n",
        "final = df_filtered.drop(to_drop, axis=1, inplace=True)"
      ],
      "metadata": {
        "id": "cOTIjr-Jxcw-"
      },
      "execution_count": null,
      "outputs": []
    },
    {
      "cell_type": "code",
      "source": [
        ""
      ],
      "metadata": {
        "id": "F-p_ozWGx-vt"
      },
      "execution_count": 15,
      "outputs": []
    },
    {
      "cell_type": "code",
      "source": [
        "final = df\n",
        "for i in range (0, 300):\n",
        "  colName = \"f_\" + str(i)\n",
        "  #print(colName + \"  \" + str(df_filtered.shape))\n",
        "  q_low = final[colName].quantile(0.001)\n",
        "  q_hi  = final[colName].quantile(0.999)  \n",
        "  final = final[(final[colName] < q_hi) & (final[colName] > q_low)]\n"
      ],
      "metadata": {
        "id": "QIxL4bHxxoAX"
      },
      "execution_count": 16,
      "outputs": []
    },
    {
      "cell_type": "code",
      "source": [
        "with open(path, 'w', encoding = 'utf-8-sig') as f:\n",
        "  final.to_parquet(f)\n"
      ],
      "metadata": {
        "id": "AL5cd0fXZqSG"
      },
      "execution_count": null,
      "outputs": []
    },
    {
      "cell_type": "code",
      "source": [
        "y = final.target\n",
        "x = final\n",
        "x = x.drop(['row_id', 'target'], axis=1)\n",
        "y.shape\n",
        "x.shape"
      ],
      "metadata": {
        "colab": {
          "base_uri": "https://localhost:8080/"
        },
        "id": "7Y96mrr_mSCx",
        "outputId": "6a699ef0-b529-4439-fd0b-268c38d63cc2"
      },
      "execution_count": 17,
      "outputs": [
        {
          "output_type": "execute_result",
          "data": {
            "text/plain": [
              "(1721371, 302)"
            ]
          },
          "metadata": {},
          "execution_count": 17
        }
      ]
    },
    {
      "cell_type": "code",
      "source": [
        "final.head()"
      ],
      "metadata": {
        "colab": {
          "base_uri": "https://localhost:8080/",
          "height": 299
        },
        "id": "utJrjgQGr_06",
        "outputId": "6004baa6-86e9-4cc4-be93-30a7d7e4738f"
      },
      "execution_count": 19,
      "outputs": [
        {
          "output_type": "execute_result",
          "data": {
            "text/plain": [
              "  row_id  time_id  investment_id    target       f_0       f_1       f_2  \\\n",
              "0    0_1        0              1 -0.300875  0.932573  0.113691 -0.402206   \n",
              "1    0_2        0              2 -0.231040  0.810802 -0.514115  0.742368   \n",
              "2    0_6        0              6  0.568807  0.393974  0.615937  0.567806   \n",
              "4    0_8        0              8 -0.531940  0.842057 -0.262993  2.330030   \n",
              "5    0_9        0              9  1.505904  0.608855  1.369305 -0.761515   \n",
              "\n",
              "        f_3       f_4       f_5  ...     f_290     f_291     f_292     f_293  \\\n",
              "0  0.378386 -0.203938 -0.413469  ...  0.366028 -1.095620  0.200075  0.819155   \n",
              "1 -0.616673 -0.194255  1.771210  ... -0.154193  0.912726 -0.734579  0.819155   \n",
              "2 -0.607963  0.068883 -1.083155  ... -0.138020  0.912726 -0.551904 -1.220772   \n",
              "4 -0.583422 -0.618392 -0.742814  ... -0.170365  0.912726 -0.741355 -1.220772   \n",
              "5  0.865860 -0.359269 -1.835762  ...  0.333684 -1.095620 -0.335999  0.819155   \n",
              "\n",
              "      f_294     f_295     f_296     f_297     f_298     f_299  \n",
              "0  0.941183 -0.086764 -1.087009 -1.044826 -0.287605  0.321566  \n",
              "1  0.941183 -0.387617 -1.087009 -0.929529 -0.974060 -0.343624  \n",
              "2 -1.060166 -0.219097 -1.087009 -0.612428 -0.113944  0.243608  \n",
              "4  0.941183 -0.588445  0.104928  0.753279  1.345611 -0.737624  \n",
              "5 -1.060166 -0.343812 -1.087009  0.077862  0.142943 -0.055550  \n",
              "\n",
              "[5 rows x 304 columns]"
            ],
            "text/html": [
              "\n",
              "  <div id=\"df-480801e8-06e8-4d1e-8604-84e625409198\">\n",
              "    <div class=\"colab-df-container\">\n",
              "      <div>\n",
              "<style scoped>\n",
              "    .dataframe tbody tr th:only-of-type {\n",
              "        vertical-align: middle;\n",
              "    }\n",
              "\n",
              "    .dataframe tbody tr th {\n",
              "        vertical-align: top;\n",
              "    }\n",
              "\n",
              "    .dataframe thead th {\n",
              "        text-align: right;\n",
              "    }\n",
              "</style>\n",
              "<table border=\"1\" class=\"dataframe\">\n",
              "  <thead>\n",
              "    <tr style=\"text-align: right;\">\n",
              "      <th></th>\n",
              "      <th>row_id</th>\n",
              "      <th>time_id</th>\n",
              "      <th>investment_id</th>\n",
              "      <th>target</th>\n",
              "      <th>f_0</th>\n",
              "      <th>f_1</th>\n",
              "      <th>f_2</th>\n",
              "      <th>f_3</th>\n",
              "      <th>f_4</th>\n",
              "      <th>f_5</th>\n",
              "      <th>...</th>\n",
              "      <th>f_290</th>\n",
              "      <th>f_291</th>\n",
              "      <th>f_292</th>\n",
              "      <th>f_293</th>\n",
              "      <th>f_294</th>\n",
              "      <th>f_295</th>\n",
              "      <th>f_296</th>\n",
              "      <th>f_297</th>\n",
              "      <th>f_298</th>\n",
              "      <th>f_299</th>\n",
              "    </tr>\n",
              "  </thead>\n",
              "  <tbody>\n",
              "    <tr>\n",
              "      <th>0</th>\n",
              "      <td>0_1</td>\n",
              "      <td>0</td>\n",
              "      <td>1</td>\n",
              "      <td>-0.300875</td>\n",
              "      <td>0.932573</td>\n",
              "      <td>0.113691</td>\n",
              "      <td>-0.402206</td>\n",
              "      <td>0.378386</td>\n",
              "      <td>-0.203938</td>\n",
              "      <td>-0.413469</td>\n",
              "      <td>...</td>\n",
              "      <td>0.366028</td>\n",
              "      <td>-1.095620</td>\n",
              "      <td>0.200075</td>\n",
              "      <td>0.819155</td>\n",
              "      <td>0.941183</td>\n",
              "      <td>-0.086764</td>\n",
              "      <td>-1.087009</td>\n",
              "      <td>-1.044826</td>\n",
              "      <td>-0.287605</td>\n",
              "      <td>0.321566</td>\n",
              "    </tr>\n",
              "    <tr>\n",
              "      <th>1</th>\n",
              "      <td>0_2</td>\n",
              "      <td>0</td>\n",
              "      <td>2</td>\n",
              "      <td>-0.231040</td>\n",
              "      <td>0.810802</td>\n",
              "      <td>-0.514115</td>\n",
              "      <td>0.742368</td>\n",
              "      <td>-0.616673</td>\n",
              "      <td>-0.194255</td>\n",
              "      <td>1.771210</td>\n",
              "      <td>...</td>\n",
              "      <td>-0.154193</td>\n",
              "      <td>0.912726</td>\n",
              "      <td>-0.734579</td>\n",
              "      <td>0.819155</td>\n",
              "      <td>0.941183</td>\n",
              "      <td>-0.387617</td>\n",
              "      <td>-1.087009</td>\n",
              "      <td>-0.929529</td>\n",
              "      <td>-0.974060</td>\n",
              "      <td>-0.343624</td>\n",
              "    </tr>\n",
              "    <tr>\n",
              "      <th>2</th>\n",
              "      <td>0_6</td>\n",
              "      <td>0</td>\n",
              "      <td>6</td>\n",
              "      <td>0.568807</td>\n",
              "      <td>0.393974</td>\n",
              "      <td>0.615937</td>\n",
              "      <td>0.567806</td>\n",
              "      <td>-0.607963</td>\n",
              "      <td>0.068883</td>\n",
              "      <td>-1.083155</td>\n",
              "      <td>...</td>\n",
              "      <td>-0.138020</td>\n",
              "      <td>0.912726</td>\n",
              "      <td>-0.551904</td>\n",
              "      <td>-1.220772</td>\n",
              "      <td>-1.060166</td>\n",
              "      <td>-0.219097</td>\n",
              "      <td>-1.087009</td>\n",
              "      <td>-0.612428</td>\n",
              "      <td>-0.113944</td>\n",
              "      <td>0.243608</td>\n",
              "    </tr>\n",
              "    <tr>\n",
              "      <th>4</th>\n",
              "      <td>0_8</td>\n",
              "      <td>0</td>\n",
              "      <td>8</td>\n",
              "      <td>-0.531940</td>\n",
              "      <td>0.842057</td>\n",
              "      <td>-0.262993</td>\n",
              "      <td>2.330030</td>\n",
              "      <td>-0.583422</td>\n",
              "      <td>-0.618392</td>\n",
              "      <td>-0.742814</td>\n",
              "      <td>...</td>\n",
              "      <td>-0.170365</td>\n",
              "      <td>0.912726</td>\n",
              "      <td>-0.741355</td>\n",
              "      <td>-1.220772</td>\n",
              "      <td>0.941183</td>\n",
              "      <td>-0.588445</td>\n",
              "      <td>0.104928</td>\n",
              "      <td>0.753279</td>\n",
              "      <td>1.345611</td>\n",
              "      <td>-0.737624</td>\n",
              "    </tr>\n",
              "    <tr>\n",
              "      <th>5</th>\n",
              "      <td>0_9</td>\n",
              "      <td>0</td>\n",
              "      <td>9</td>\n",
              "      <td>1.505904</td>\n",
              "      <td>0.608855</td>\n",
              "      <td>1.369305</td>\n",
              "      <td>-0.761515</td>\n",
              "      <td>0.865860</td>\n",
              "      <td>-0.359269</td>\n",
              "      <td>-1.835762</td>\n",
              "      <td>...</td>\n",
              "      <td>0.333684</td>\n",
              "      <td>-1.095620</td>\n",
              "      <td>-0.335999</td>\n",
              "      <td>0.819155</td>\n",
              "      <td>-1.060166</td>\n",
              "      <td>-0.343812</td>\n",
              "      <td>-1.087009</td>\n",
              "      <td>0.077862</td>\n",
              "      <td>0.142943</td>\n",
              "      <td>-0.055550</td>\n",
              "    </tr>\n",
              "  </tbody>\n",
              "</table>\n",
              "<p>5 rows × 304 columns</p>\n",
              "</div>\n",
              "      <button class=\"colab-df-convert\" onclick=\"convertToInteractive('df-480801e8-06e8-4d1e-8604-84e625409198')\"\n",
              "              title=\"Convert this dataframe to an interactive table.\"\n",
              "              style=\"display:none;\">\n",
              "        \n",
              "  <svg xmlns=\"http://www.w3.org/2000/svg\" height=\"24px\"viewBox=\"0 0 24 24\"\n",
              "       width=\"24px\">\n",
              "    <path d=\"M0 0h24v24H0V0z\" fill=\"none\"/>\n",
              "    <path d=\"M18.56 5.44l.94 2.06.94-2.06 2.06-.94-2.06-.94-.94-2.06-.94 2.06-2.06.94zm-11 1L8.5 8.5l.94-2.06 2.06-.94-2.06-.94L8.5 2.5l-.94 2.06-2.06.94zm10 10l.94 2.06.94-2.06 2.06-.94-2.06-.94-.94-2.06-.94 2.06-2.06.94z\"/><path d=\"M17.41 7.96l-1.37-1.37c-.4-.4-.92-.59-1.43-.59-.52 0-1.04.2-1.43.59L10.3 9.45l-7.72 7.72c-.78.78-.78 2.05 0 2.83L4 21.41c.39.39.9.59 1.41.59.51 0 1.02-.2 1.41-.59l7.78-7.78 2.81-2.81c.8-.78.8-2.07 0-2.86zM5.41 20L4 18.59l7.72-7.72 1.47 1.35L5.41 20z\"/>\n",
              "  </svg>\n",
              "      </button>\n",
              "      \n",
              "  <style>\n",
              "    .colab-df-container {\n",
              "      display:flex;\n",
              "      flex-wrap:wrap;\n",
              "      gap: 12px;\n",
              "    }\n",
              "\n",
              "    .colab-df-convert {\n",
              "      background-color: #E8F0FE;\n",
              "      border: none;\n",
              "      border-radius: 50%;\n",
              "      cursor: pointer;\n",
              "      display: none;\n",
              "      fill: #1967D2;\n",
              "      height: 32px;\n",
              "      padding: 0 0 0 0;\n",
              "      width: 32px;\n",
              "    }\n",
              "\n",
              "    .colab-df-convert:hover {\n",
              "      background-color: #E2EBFA;\n",
              "      box-shadow: 0px 1px 2px rgba(60, 64, 67, 0.3), 0px 1px 3px 1px rgba(60, 64, 67, 0.15);\n",
              "      fill: #174EA6;\n",
              "    }\n",
              "\n",
              "    [theme=dark] .colab-df-convert {\n",
              "      background-color: #3B4455;\n",
              "      fill: #D2E3FC;\n",
              "    }\n",
              "\n",
              "    [theme=dark] .colab-df-convert:hover {\n",
              "      background-color: #434B5C;\n",
              "      box-shadow: 0px 1px 3px 1px rgba(0, 0, 0, 0.15);\n",
              "      filter: drop-shadow(0px 1px 2px rgba(0, 0, 0, 0.3));\n",
              "      fill: #FFFFFF;\n",
              "    }\n",
              "  </style>\n",
              "\n",
              "      <script>\n",
              "        const buttonEl =\n",
              "          document.querySelector('#df-480801e8-06e8-4d1e-8604-84e625409198 button.colab-df-convert');\n",
              "        buttonEl.style.display =\n",
              "          google.colab.kernel.accessAllowed ? 'block' : 'none';\n",
              "\n",
              "        async function convertToInteractive(key) {\n",
              "          const element = document.querySelector('#df-480801e8-06e8-4d1e-8604-84e625409198');\n",
              "          const dataTable =\n",
              "            await google.colab.kernel.invokeFunction('convertToInteractive',\n",
              "                                                     [key], {});\n",
              "          if (!dataTable) return;\n",
              "\n",
              "          const docLinkHtml = 'Like what you see? Visit the ' +\n",
              "            '<a target=\"_blank\" href=https://colab.research.google.com/notebooks/data_table.ipynb>data table notebook</a>'\n",
              "            + ' to learn more about interactive tables.';\n",
              "          element.innerHTML = '';\n",
              "          dataTable['output_type'] = 'display_data';\n",
              "          await google.colab.output.renderOutput(dataTable, element);\n",
              "          const docLink = document.createElement('div');\n",
              "          docLink.innerHTML = docLinkHtml;\n",
              "          element.appendChild(docLink);\n",
              "        }\n",
              "      </script>\n",
              "    </div>\n",
              "  </div>\n",
              "  "
            ]
          },
          "metadata": {},
          "execution_count": 19
        }
      ]
    },
    {
      "cell_type": "code",
      "source": [
        "y.head()"
      ],
      "metadata": {
        "colab": {
          "base_uri": "https://localhost:8080/"
        },
        "id": "avAIIUYOsPWI",
        "outputId": "d06e6a64-fadc-4af8-e32b-0bb04e9f641b"
      },
      "execution_count": 11,
      "outputs": [
        {
          "output_type": "execute_result",
          "data": {
            "text/plain": [
              "0   -0.300875\n",
              "1   -0.231040\n",
              "2    0.568807\n",
              "4   -0.531940\n",
              "5    1.505904\n",
              "Name: target, dtype: float32"
            ]
          },
          "metadata": {},
          "execution_count": 11
        }
      ]
    },
    {
      "cell_type": "code",
      "source": [
        "y.shape\n"
      ],
      "metadata": {
        "colab": {
          "base_uri": "https://localhost:8080/"
        },
        "id": "szte3FMirsSK",
        "outputId": "7394d450-8854-4ded-9817-b4d674a75cec"
      },
      "execution_count": 12,
      "outputs": [
        {
          "output_type": "execute_result",
          "data": {
            "text/plain": [
              "(1721371,)"
            ]
          },
          "metadata": {},
          "execution_count": 12
        }
      ]
    },
    {
      "cell_type": "code",
      "source": [
        "\n",
        "plt.figure(figsize=(16,5))\n",
        "plt.subplot(1,2,1)\n",
        "sns.distplot(df_filtered['f_0'])\n",
        "plt.subplot(1,2,2)\n",
        "sns.distplot(df_filtered['f_1'])\n",
        "plt.show()\n",
        "\n",
        "sns.boxplot(df_filtered['target'])"
      ],
      "metadata": {
        "id": "6PjnV0R2sJCS"
      },
      "execution_count": null,
      "outputs": []
    },
    {
      "cell_type": "code",
      "source": [
        "import pickle\n",
        "filename = 'mar_model_2.sav'\n"
      ],
      "metadata": {
        "id": "7N19weM8ncoV"
      },
      "execution_count": 18,
      "outputs": []
    },
    {
      "cell_type": "code",
      "source": [
        "!pip install pytorch-tabnet\n",
        "from pytorch_tabnet.tab_model import TabNetRegressor\n",
        "from sklearn.model_selection import TimeSeriesSplit\n",
        "from sklearn.metrics import mean_absolute_error\n",
        "\n",
        "regressor = TabNetRegressor(verbose=0,seed=42)\n"
      ],
      "metadata": {
        "colab": {
          "base_uri": "https://localhost:8080/"
        },
        "id": "svPoIyPgmV1B",
        "outputId": "6da7a6c0-94d0-49b2-f2b1-90d3091bc273"
      },
      "execution_count": 19,
      "outputs": [
        {
          "output_type": "stream",
          "name": "stdout",
          "text": [
            "Requirement already satisfied: pytorch-tabnet in /usr/local/lib/python3.7/dist-packages (3.1.1)\n",
            "Requirement already satisfied: torch<2.0,>=1.2 in /usr/local/lib/python3.7/dist-packages (from pytorch-tabnet) (1.10.0+cu111)\n",
            "Requirement already satisfied: numpy<2.0,>=1.17 in /usr/local/lib/python3.7/dist-packages (from pytorch-tabnet) (1.21.5)\n",
            "Requirement already satisfied: tqdm<5.0,>=4.36 in /usr/local/lib/python3.7/dist-packages (from pytorch-tabnet) (4.63.0)\n",
            "Requirement already satisfied: scikit_learn>0.21 in /usr/local/lib/python3.7/dist-packages (from pytorch-tabnet) (1.0.2)\n",
            "Requirement already satisfied: scipy>1.4 in /usr/local/lib/python3.7/dist-packages (from pytorch-tabnet) (1.4.1)\n",
            "Requirement already satisfied: threadpoolctl>=2.0.0 in /usr/local/lib/python3.7/dist-packages (from scikit_learn>0.21->pytorch-tabnet) (3.1.0)\n",
            "Requirement already satisfied: joblib>=0.11 in /usr/local/lib/python3.7/dist-packages (from scikit_learn>0.21->pytorch-tabnet) (1.1.0)\n",
            "Requirement already satisfied: typing-extensions in /usr/local/lib/python3.7/dist-packages (from torch<2.0,>=1.2->pytorch-tabnet) (3.10.0.2)\n"
          ]
        }
      ]
    },
    {
      "cell_type": "code",
      "source": [
        "import gc\n",
        "gc.collect()"
      ],
      "metadata": {
        "colab": {
          "base_uri": "https://localhost:8080/"
        },
        "id": "Ny51Dybx-ofL",
        "outputId": "a1721395-707c-49fe-f65e-e1681b6b6caf"
      },
      "execution_count": 20,
      "outputs": [
        {
          "output_type": "execute_result",
          "data": {
            "text/plain": [
              "202"
            ]
          },
          "metadata": {},
          "execution_count": 20
        }
      ]
    },
    {
      "cell_type": "code",
      "source": [
        ""
      ],
      "metadata": {
        "id": "laUaOBkZxN1m"
      },
      "execution_count": null,
      "outputs": []
    },
    {
      "cell_type": "code",
      "source": [
        "df_filtered.corrwith(df_filtered['target']).plot(kind='barh',figsize=[200,100], legend=True,grid=True)\n"
      ],
      "metadata": {
        "id": "VDZhCOpYvPYG"
      },
      "execution_count": null,
      "outputs": []
    },
    {
      "cell_type": "code",
      "source": [
        "tscv = TimeSeriesSplit(n_splits = 20)\n",
        "rmse = []\n",
        "CV_score_array    =[]\n",
        "predictions_array =[]\n",
        "\n",
        "for train_index, test_index in tscv.split(x):\n",
        "    print(train_index, test_index)\n",
        "    X_train, X_valid = x.iloc[train_index], x.iloc[test_index]\n",
        "    y_train, y_valid = y.iloc[train_index], y.iloc[test_index]\n",
        "\n",
        "    X_train      = X_train.to_numpy()\n",
        "    y_train = y_train.to_numpy().reshape(-1, 1)\n",
        "    \n",
        "    X_valid      = X_valid.to_numpy()\n",
        "    y_valid = y_valid.to_numpy().reshape(-1, 1)\n",
        "    \n",
        "    regressor.fit(X_train=X_train, y_train=y_train,\n",
        "              eval_set=[(X_valid, y_valid)],\n",
        "              patience=300, max_epochs=100,\n",
        "              eval_metric=['rmse'])\n",
        "    predictions = regressor.predict(X_valid)\n",
        "    pickle.dump(regressor, open(filename, 'wb'))\n",
        "    CV_score_array.append(regressor.best_cost)\n",
        "    print(\"The CV score is %.5f\" % np.mean(CV_score_array,axis=0) )\n",
        "    predictions_array.append(np.expm1(predictions))\n",
        "\n",
        "\n",
        "!cp filename \"/content/drive/My Drive/\""
      ],
      "metadata": {
        "colab": {
          "base_uri": "https://localhost:8080/"
        },
        "id": "Uy2gGevMmYGM",
        "outputId": "dd66374f-873e-47d0-a1d9-c2747ad62d45"
      },
      "execution_count": null,
      "outputs": [
        {
          "output_type": "stream",
          "name": "stdout",
          "text": [
            "[    0     1     2 ... 81968 81969 81970] [ 81971  81972  81973 ... 163938 163939 163940]\n",
            "Stop training because you reached max_epochs = 100 with best_epoch = 1 and best_val_0_rmse = 0.7871699929237366\n",
            "Best weights from best epoch are automatically used!\n",
            "The CV score is 0.78717\n",
            "[     0      1      2 ... 163938 163939 163940] [163941 163942 163943 ... 245908 245909 245910]\n"
          ]
        }
      ]
    },
    {
      "cell_type": "code",
      "source": [
        "!cp filename \"/content/drive/My Drive/\"\n"
      ],
      "metadata": {
        "id": "2L9XAFRT_5Du"
      },
      "execution_count": null,
      "outputs": []
    },
    {
      "cell_type": "code",
      "source": [
        "# load the model from disk\n",
        "regressor = pickle.load(open(filename, 'rb'))\n",
        "#result = loaded_model.score(X_test, Y_test)\n",
        "#print(result)\n"
      ],
      "metadata": {
        "id": "3wTRImyLmd1R"
      },
      "execution_count": null,
      "outputs": []
    },
    {
      "cell_type": "code",
      "source": [
        ""
      ],
      "metadata": {
        "colab": {
          "base_uri": "https://localhost:8080/"
        },
        "id": "I_lQK_qtmk2-",
        "outputId": "4d615d83-d1af-4b21-e75d-d381fa9c1f67"
      },
      "execution_count": 7,
      "outputs": [
        {
          "output_type": "stream",
          "name": "stdout",
          "text": [
            "Mounted at /content/drive\n"
          ]
        }
      ]
    }
  ]
}